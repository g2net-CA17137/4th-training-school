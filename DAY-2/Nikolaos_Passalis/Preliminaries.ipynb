{
  "cells": [
    {
      "cell_type": "markdown",
      "metadata": {
        "id": "EWkQkrRC35yi"
      },
      "source": [
        "# Getting Started with Keras!\n",
        "\n",
        "*aka boring stuff first...*\n",
        "\n",
        "In this tutorial we will demonstrate how to load a dataset, define a simple keras model and evaluate its performance!\n"
      ]
    },
    {
      "cell_type": "markdown",
      "metadata": {
        "id": "zlY1VYoZ35ym"
      },
      "source": [
        "Let's start by loading the data! Keras provides an easy to use interface for several datasets, so we will use it to load the well-known MNIST dataset."
      ]
    },
    {
      "cell_type": "code",
      "execution_count": 1,
      "metadata": {
        "colab": {
          "base_uri": "https://localhost:8080/"
        },
        "id": "-0UP1HhZ35yn",
        "outputId": "ab8308bd-2d47-4fd9-c198-9ce564f5728b"
      },
      "outputs": [
        {
          "output_type": "stream",
          "name": "stdout",
          "text": [
            "Downloading data from https://storage.googleapis.com/tensorflow/tf-keras-datasets/mnist.npz\n",
            "11490434/11490434 [==============================] - 0s 0us/step\n",
            "Train/test data shape: (60000, 28, 28) (10000, 28, 28)\n",
            "Train/test labels shape: (60000,) (10000,)\n"
          ]
        }
      ],
      "source": [
        "import keras\n",
        "from keras.datasets import mnist\n",
        "\n",
        "(x_train, y_train), (x_test, y_test) = mnist.load_data()\n",
        "\n",
        "print(\"Train/test data shape:\", x_train.shape, x_test.shape)\n",
        "print(\"Train/test labels shape:\", y_train.shape, y_test.shape)\n"
      ]
    },
    {
      "cell_type": "markdown",
      "metadata": {
        "id": "djYR-nyO35yq"
      },
      "source": [
        "Verify that we indeed loaded the correct dataset :p"
      ]
    },
    {
      "cell_type": "code",
      "execution_count": 2,
      "metadata": {
        "colab": {
          "base_uri": "https://localhost:8080/",
          "height": 809
        },
        "id": "Jn7AHzxV35yr",
        "outputId": "4a5a0ce6-a510-4785-e203-5beca90040cf"
      },
      "outputs": [
        {
          "output_type": "display_data",
          "data": {
            "text/plain": [
              "<Figure size 432x288 with 1 Axes>"
            ],
            "image/png": "[encoded data removed]"
          },
          "metadata": {
            "needs_background": "light"
          }
        },
        {
          "output_type": "display_data",
          "data": {
            "text/plain": [
              "<Figure size 432x288 with 1 Axes>"
            ],
            "image/png": "[encoded data removed]"
          },
          "metadata": {
            "needs_background": "light"
          }
        },
        {
          "output_type": "display_data",
          "data": {
            "text/plain": [
              "<Figure size 432x288 with 1 Axes>"
            ],
            "image/png": "[encoded data removed]"
          },
          "metadata": {
            "needs_background": "light"
          }
        }
      ],
      "source": [
        "import numpy as np\n",
        "import matplotlib.pyplot as plt\n",
        "\n",
        "%matplotlib inline\n",
        "\n",
        "for i in range(3):\n",
        "    plt.figure(i)\n",
        "    plt.imshow(x_train[i], cmap='gray')\n",
        "    plt.title(\"Image: \" + str(i) + \" Label: \" + str(y_train[i]))\n",
        "\n"
      ]
    },
    {
      "cell_type": "markdown",
      "metadata": {
        "id": "E5TYNOvV35ys"
      },
      "source": [
        "Prepare the data (reshape into vectors and encode the labels as one-hot vectors):\n"
      ]
    },
    {
      "cell_type": "code",
      "execution_count": 3,
      "metadata": {
        "colab": {
          "base_uri": "https://localhost:8080/"
        },
        "id": "W_dTv2Uh35ys",
        "outputId": "3c663e95-f3cb-4240-9954-e0609cff3be3"
      },
      "outputs": [
        {
          "output_type": "stream",
          "name": "stdout",
          "text": [
            "Train/test data shape: (60000, 784) (10000, 784)\n",
            "Train/test labels shape: (60000, 10) (10000, 10)\n",
            "[0. 0. 0. 0. 0. 1. 0. 0. 0. 0.] 5\n",
            "[0. 0. 0. 0. 0. 1. 0. 0. 0. 0.] 0\n",
            "[0. 0. 0. 0. 0. 1. 0. 0. 0. 0.] 4\n"
          ]
        }
      ],
      "source": [
        "# Reshape and normalize the data\n",
        "x_train = x_train.reshape((-1, 28*28)) / 255.0\n",
        "x_test = x_test.reshape((-1, 28*28)) / 255.0\n",
        "\n",
        "# Encode the labels\n",
        "y_train = keras.utils.to_categorical(y_train, num_classes=10)\n",
        "y_test = keras.utils.to_categorical(y_test, num_classes=10)\n",
        "\n",
        "print(\"Train/test data shape:\", x_train.shape, x_test.shape)\n",
        "print(\"Train/test labels shape:\", y_train.shape, y_test.shape)\n",
        "print(y_train[0], np.argmax(y_train[0]))\n",
        "print(y_train[0], np.argmax(y_train[1]))\n",
        "print(y_train[0], np.argmax(y_train[2]))\n"
      ]
    },
    {
      "cell_type": "markdown",
      "metadata": {
        "id": "WNi-MKhO35yt"
      },
      "source": [
        "Define a simple Multilayer Perceptron (MLP):"
      ]
    },
    {
      "cell_type": "code",
      "execution_count": 4,
      "metadata": {
        "id": "dZ5S-rs635yu"
      },
      "outputs": [],
      "source": [
        "from keras.models import Sequential\n",
        "from keras.layers import Dense, Activation\n",
        "from keras.optimizers import Adam\n",
        "\n",
        "model = Sequential()\n",
        "\n",
        "# For the first layer we have to define the input dimensionality\n",
        "model.add(Dense(64, activation='relu', input_dim=784))\n",
        "# Add a second hidden layer\n",
        "model.add(Dense(256, activation='relu'))\n",
        "# Add an output layer (the number of neurons must match the number of classes)\n",
        "model.add(Dense(10, activation='softmax'))"
      ]
    },
    {
      "cell_type": "markdown",
      "metadata": {
        "id": "Vw_uQRcE35yv"
      },
      "source": [
        "After defining the model we have to compile it!\n"
      ]
    },
    {
      "cell_type": "code",
      "execution_count": 5,
      "metadata": {
        "colab": {
          "base_uri": "https://localhost:8080/"
        },
        "id": "V1x0f1cW35yv",
        "outputId": "64e620b3-bb30-4268-ebc2-82bced788c0c"
      },
      "outputs": [
        {
          "output_type": "stream",
          "name": "stderr",
          "text": [
            "/usr/local/lib/python3.9/dist-packages/keras/optimizers/optimizer_v2/adam.py:117: UserWarning: The `lr` argument is deprecated, use `learning_rate` instead.\n",
            "  super().__init__(name, **kwargs)\n"
          ]
        }
      ],
      "source": [
        "# Select an optimizer\n",
        "adam = Adam(lr=0.0001)\n",
        "# Select the loss function and metrics that should be monitored\n",
        "model.compile(loss='categorical_crossentropy',\n",
        "              optimizer=adam,\n",
        "              metrics=['accuracy'])"
      ]
    },
    {
      "cell_type": "markdown",
      "metadata": {
        "id": "0oAzck7H35yw"
      },
      "source": [
        "We are now ready to train our model!!! \n",
        "\n",
        "*There are three different reporting levels: verbose=0 (no reporting), verbose=1 (progress bar), and verbose=2 (one line per epoch)*"
      ]
    },
    {
      "cell_type": "code",
      "execution_count": 6,
      "metadata": {
        "colab": {
          "base_uri": "https://localhost:8080/"
        },
        "id": "txb2WeQh35yx",
        "outputId": "1b0e23fd-2d84-4c43-9ad0-90ae10040349"
      },
      "outputs": [
        {
          "output_type": "stream",
          "name": "stdout",
          "text": [
            "Epoch 1/50\n",
            "235/235 - 4s - loss: 1.4366 - accuracy: 0.6490 - 4s/epoch - 17ms/step\n",
            "Epoch 2/50\n",
            "235/235 - 2s - loss: 0.4785 - accuracy: 0.8772 - 2s/epoch - 9ms/step\n",
            "Epoch 3/50\n",
            "235/235 - 2s - loss: 0.3450 - accuracy: 0.9026 - 2s/epoch - 7ms/step\n",
            "Epoch 4/50\n",
            "235/235 - 1s - loss: 0.2943 - accuracy: 0.9163 - 1s/epoch - 5ms/step\n",
            "Epoch 5/50\n",
            "235/235 - 2s - loss: 0.2635 - accuracy: 0.9250 - 2s/epoch - 8ms/step\n",
            "Epoch 6/50\n",
            "235/235 - 1s - loss: 0.2421 - accuracy: 0.9308 - 1s/epoch - 6ms/step\n",
            "Epoch 7/50\n",
            "235/235 - 1s - loss: 0.2248 - accuracy: 0.9361 - 1s/epoch - 5ms/step\n",
            "Epoch 8/50\n",
            "235/235 - 1s - loss: 0.2114 - accuracy: 0.9390 - 1s/epoch - 5ms/step\n",
            "Epoch 9/50\n",
            "235/235 - 1s - loss: 0.1995 - accuracy: 0.9427 - 1s/epoch - 4ms/step\n",
            "Epoch 10/50\n",
            "235/235 - 1s - loss: 0.1893 - accuracy: 0.9449 - 1s/epoch - 5ms/step\n",
            "Epoch 11/50\n",
            "235/235 - 1s - loss: 0.1799 - accuracy: 0.9485 - 1s/epoch - 5ms/step\n",
            "Epoch 12/50\n",
            "235/235 - 1s - loss: 0.1715 - accuracy: 0.9506 - 1s/epoch - 5ms/step\n",
            "Epoch 13/50\n",
            "235/235 - 1s - loss: 0.1642 - accuracy: 0.9520 - 1s/epoch - 5ms/step\n",
            "Epoch 14/50\n",
            "235/235 - 1s - loss: 0.1575 - accuracy: 0.9547 - 1s/epoch - 5ms/step\n",
            "Epoch 15/50\n",
            "235/235 - 2s - loss: 0.1512 - accuracy: 0.9562 - 2s/epoch - 7ms/step\n",
            "Epoch 16/50\n",
            "235/235 - 2s - loss: 0.1454 - accuracy: 0.9579 - 2s/epoch - 8ms/step\n",
            "Epoch 17/50\n",
            "235/235 - 1s - loss: 0.1397 - accuracy: 0.9595 - 1s/epoch - 5ms/step\n",
            "Epoch 18/50\n",
            "235/235 - 1s - loss: 0.1347 - accuracy: 0.9611 - 1s/epoch - 5ms/step\n",
            "Epoch 19/50\n",
            "235/235 - 1s - loss: 0.1298 - accuracy: 0.9625 - 1s/epoch - 5ms/step\n",
            "Epoch 20/50\n",
            "235/235 - 1s - loss: 0.1253 - accuracy: 0.9639 - 1s/epoch - 5ms/step\n",
            "Epoch 21/50\n",
            "235/235 - 1s - loss: 0.1209 - accuracy: 0.9648 - 1s/epoch - 4ms/step\n",
            "Epoch 22/50\n",
            "235/235 - 1s - loss: 0.1169 - accuracy: 0.9661 - 1s/epoch - 5ms/step\n",
            "Epoch 23/50\n",
            "235/235 - 1s - loss: 0.1129 - accuracy: 0.9678 - 1s/epoch - 5ms/step\n",
            "Epoch 24/50\n",
            "235/235 - 1s - loss: 0.1094 - accuracy: 0.9684 - 1s/epoch - 5ms/step\n",
            "Epoch 25/50\n",
            "235/235 - 2s - loss: 0.1058 - accuracy: 0.9697 - 2s/epoch - 7ms/step\n",
            "Epoch 26/50\n",
            "235/235 - 2s - loss: 0.1025 - accuracy: 0.9704 - 2s/epoch - 7ms/step\n",
            "Epoch 27/50\n",
            "235/235 - 1s - loss: 0.0992 - accuracy: 0.9714 - 1s/epoch - 5ms/step\n",
            "Epoch 28/50\n",
            "235/235 - 1s - loss: 0.0964 - accuracy: 0.9732 - 1s/epoch - 5ms/step\n",
            "Epoch 29/50\n",
            "235/235 - 1s - loss: 0.0933 - accuracy: 0.9736 - 1s/epoch - 5ms/step\n",
            "Epoch 30/50\n",
            "235/235 - 1s - loss: 0.0907 - accuracy: 0.9742 - 1s/epoch - 5ms/step\n",
            "Epoch 31/50\n",
            "235/235 - 1s - loss: 0.0881 - accuracy: 0.9749 - 1s/epoch - 5ms/step\n",
            "Epoch 32/50\n",
            "235/235 - 1s - loss: 0.0854 - accuracy: 0.9758 - 1s/epoch - 5ms/step\n",
            "Epoch 33/50\n",
            "235/235 - 1s - loss: 0.0831 - accuracy: 0.9768 - 1s/epoch - 5ms/step\n",
            "Epoch 34/50\n",
            "235/235 - 1s - loss: 0.0808 - accuracy: 0.9770 - 1s/epoch - 5ms/step\n",
            "Epoch 35/50\n",
            "235/235 - 2s - loss: 0.0787 - accuracy: 0.9775 - 2s/epoch - 8ms/step\n",
            "Epoch 36/50\n",
            "235/235 - 1s - loss: 0.0765 - accuracy: 0.9784 - 1s/epoch - 6ms/step\n",
            "Epoch 37/50\n",
            "235/235 - 1s - loss: 0.0746 - accuracy: 0.9786 - 1s/epoch - 5ms/step\n",
            "Epoch 38/50\n",
            "235/235 - 1s - loss: 0.0725 - accuracy: 0.9797 - 1s/epoch - 4ms/step\n",
            "Epoch 39/50\n",
            "235/235 - 1s - loss: 0.0704 - accuracy: 0.9801 - 1s/epoch - 5ms/step\n",
            "Epoch 40/50\n",
            "235/235 - 1s - loss: 0.0687 - accuracy: 0.9802 - 1s/epoch - 4ms/step\n",
            "Epoch 41/50\n",
            "235/235 - 1s - loss: 0.0669 - accuracy: 0.9813 - 1s/epoch - 5ms/step\n",
            "Epoch 42/50\n",
            "235/235 - 1s - loss: 0.0649 - accuracy: 0.9818 - 1s/epoch - 5ms/step\n",
            "Epoch 43/50\n",
            "235/235 - 1s - loss: 0.0637 - accuracy: 0.9822 - 1s/epoch - 5ms/step\n",
            "Epoch 44/50\n",
            "235/235 - 1s - loss: 0.0619 - accuracy: 0.9828 - 1s/epoch - 5ms/step\n",
            "Epoch 45/50\n",
            "235/235 - 2s - loss: 0.0601 - accuracy: 0.9831 - 2s/epoch - 7ms/step\n",
            "Epoch 46/50\n",
            "235/235 - 2s - loss: 0.0592 - accuracy: 0.9835 - 2s/epoch - 7ms/step\n",
            "Epoch 47/50\n",
            "235/235 - 1s - loss: 0.0574 - accuracy: 0.9839 - 1s/epoch - 5ms/step\n",
            "Epoch 48/50\n",
            "235/235 - 1s - loss: 0.0561 - accuracy: 0.9845 - 1s/epoch - 5ms/step\n",
            "Epoch 49/50\n",
            "235/235 - 1s - loss: 0.0548 - accuracy: 0.9847 - 1s/epoch - 5ms/step\n",
            "Epoch 50/50\n",
            "235/235 - 1s - loss: 0.0535 - accuracy: 0.9852 - 1s/epoch - 5ms/step\n"
          ]
        },
        {
          "output_type": "execute_result",
          "data": {
            "text/plain": [
              "<keras.callbacks.History at 0x7f575afd5820>"
            ]
          },
          "metadata": {},
          "execution_count": 6
        }
      ],
      "source": [
        "model.fit(x_train, y_train, epochs=50, batch_size=256, verbose=2)"
      ]
    },
    {
      "cell_type": "markdown",
      "metadata": {
        "id": "SdFvUYSE35yx"
      },
      "source": [
        "Let's see what we have got!"
      ]
    },
    {
      "cell_type": "code",
      "execution_count": 7,
      "metadata": {
        "colab": {
          "base_uri": "https://localhost:8080/"
        },
        "id": "Nm1DLjHi35yy",
        "outputId": "ef77a5ba-8386-4804-9f79-aefeac1c8ab4"
      },
      "outputs": [
        {
          "output_type": "stream",
          "name": "stdout",
          "text": [
            "469/469 [==============================] - 2s 3ms/step - loss: 0.0515 - accuracy: 0.9858\n",
            "Train accuracy:  [0.05146428942680359, 0.9858333468437195]\n",
            "79/79 [==============================] - 1s 9ms/step - loss: 0.0878 - accuracy: 0.9728\n",
            "Test accuracy:  [0.08776858448982239, 0.9728000164031982]\n"
          ]
        }
      ],
      "source": [
        "print(\"Train accuracy: \", model.evaluate(x_train, y_train, batch_size=128))\n",
        "print(\"Test accuracy: \", model.evaluate(x_test, y_test, batch_size=128))"
      ]
    },
    {
      "cell_type": "markdown",
      "metadata": {
        "id": "zQIIsfb635yy"
      },
      "source": [
        "Get the actual output of the network:"
      ]
    },
    {
      "cell_type": "code",
      "execution_count": 8,
      "metadata": {
        "colab": {
          "base_uri": "https://localhost:8080/"
        },
        "id": "w2QxM4mZ35yz",
        "outputId": "9dc6b64e-f167-48ab-d023-2cc8ca1353de"
      },
      "outputs": [
        {
          "output_type": "stream",
          "name": "stdout",
          "text": [
            "1875/1875 [==============================] - 5s 2ms/step\n",
            "[2.8655897e-12 2.9588199e-09 5.7809020e-09 6.3975528e-03 1.1355046e-15\n",
            " 9.9360240e-01 2.1509023e-13 1.2742800e-09 8.7500882e-11 5.7489489e-09] 5\n"
          ]
        }
      ],
      "source": [
        "y_out = model.predict(x_train)\n",
        "print(y_out[0], np.argmax(y_out[0]))"
      ]
    },
    {
      "cell_type": "markdown",
      "metadata": {
        "id": "CCmtWRf535yz"
      },
      "source": [
        "Examine the behavior of the network a bit more in depth:"
      ]
    },
    {
      "cell_type": "code",
      "execution_count": 9,
      "metadata": {
        "colab": {
          "base_uri": "https://localhost:8080/"
        },
        "id": "zhrMz6ZR35y0",
        "outputId": "de3575bd-03ea-4d6e-8556-3259741328e7"
      },
      "outputs": [
        {
          "output_type": "stream",
          "name": "stdout",
          "text": [
            "Prediction order:  [5 3 2 9 1 7 8 0 6 4] True label:  5\n",
            "Prediction order:  [0 2 9 6 7 3 1 5 8 4] True label:  0\n",
            "Prediction order:  [4 3 9 7 2 6 1 8 5 0] True label:  4\n",
            "Prediction order:  [1 7 2 4 8 3 9 6 0 5] True label:  1\n",
            "Prediction order:  [9 4 8 7 3 5 1 2 0 6] True label:  9\n",
            "Prediction order:  [2 3 7 4 8 0 9 1 6 5] True label:  2\n",
            "Prediction order:  [1 3 8 2 4 9 7 5 6 0] True label:  1\n",
            "Prediction order:  [3 8 9 5 2 7 1 0 4 6] True label:  3\n",
            "Prediction order:  [1 3 8 9 7 4 6 2 5 0] True label:  1\n",
            "Prediction order:  [4 6 2 5 0 8 7 9 1 3] True label:  4\n"
          ]
        }
      ],
      "source": [
        "for i in range(10):\n",
        "    print(\"Prediction order: \", np.argsort(y_out[i])[::-1], \"True label: \", np.argmax(y_train[i]))"
      ]
    }
  ],
  "metadata": {
    "kernelspec": {
      "display_name": "Python 3",
      "language": "python",
      "name": "python3"
    },
    "language_info": {
      "codemirror_mode": {
        "name": "ipython",
        "version": 3
      },
      "file_extension": ".py",
      "mimetype": "text/x-python",
      "name": "python",
      "nbconvert_exporter": "python",
      "pygments_lexer": "ipython3",
      "version": "3.6.3"
    },
    "colab": {
      "provenance": []
    }
  },
  "nbformat": 4,
  "nbformat_minor": 0
}